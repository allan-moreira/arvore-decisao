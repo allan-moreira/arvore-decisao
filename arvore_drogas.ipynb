{
 "cells": [
  {
   "cell_type": "code",
   "execution_count": 1,
   "metadata": {},
   "outputs": [],
   "source": [
    "import pandas as pd\n",
    "from sklearn.preprocessing import OneHotEncoder\n",
    "from sklearn.model_selection import train_test_split\n",
    "from sklearn.tree import DecisionTreeClassifier\n",
    "from sklearn.tree import plot_tree\n",
    "import matplotlib.pyplot as plt\n",
    "from sklearn.metrics import confusion_matrix, accuracy_score, precision_score, recall_score, f1_score\n",
    "from random import randint"
   ]
  },
  {
   "cell_type": "code",
   "execution_count": null,
   "metadata": {},
   "outputs": [],
   "source": [
    "# 1. Carregar o conjunto de dados\n",
    "data = pd.read_csv('drug200.csv')"
   ]
  },
  {
   "cell_type": "code",
   "execution_count": null,
   "metadata": {},
   "outputs": [],
   "source": [
    "# 2. Transformar atributos nominais em binários\n",
    "data_encoded = pd.get_dummies(data,columns=['Sex', 'BP'], dtype=int, drop_first=True)\n",
    "data_encoded = pd.get_dummies(data_encoded,columns=['Cholesterol', 'Drug'], dtype=int)\n"
   ]
  },
  {
   "cell_type": "code",
   "execution_count": null,
   "metadata": {},
   "outputs": [],
   "source": [
    "# 3. Separar atributos (X) e classes (y)\n",
    "class_names = ['Drug_drugA', 'Drug_drugB', 'Drug_drugC', 'Drug_drugX', 'Drug_DrugY']\n",
    "y = data_encoded[class_names]\n",
    "x = data_encoded.drop(columns=class_names)\n",
    "\n",
    "feature_names = x.columns\n",
    "class_names = y.columns\n",
    "\n",
    "x"
   ]
  },
  {
   "cell_type": "code",
   "execution_count": 5,
   "metadata": {},
   "outputs": [],
   "source": [
    "# 4. Dividir o conjunto de dados em treinamento e teste\n",
    "x_train, x_test, y_train, y_test = train_test_split(x, y, test_size=0.3, random_state=randint(0, 100))"
   ]
  },
  {
   "cell_type": "code",
   "execution_count": null,
   "metadata": {},
   "outputs": [],
   "source": [
    "# 5. Aplicar o algoritmo de árvore de decisão\n",
    "clf = DecisionTreeClassifier(criterion=\"entropy\")\n",
    "clf.fit(x_train, y_train)"
   ]
  },
  {
   "cell_type": "code",
   "execution_count": null,
   "metadata": {},
   "outputs": [],
   "source": [
    "# 6. Visualizar a árvore de decisão\n",
    "plt.figure(figsize=(20,10))\n",
    "plot_tree(clf, filled=True,feature_names=feature_names, class_names=class_names)\n",
    "plt.savefig(\"decision_tree.png\", dpi=300, bbox_inches='tight')\n",
    "\n",
    "plt.show()"
   ]
  },
  {
   "cell_type": "code",
   "execution_count": 8,
   "metadata": {},
   "outputs": [],
   "source": [
    "# 7. Fazer a classificação dos dados de teste\n",
    "y_pred = clf.predict(x_test)\n",
    "y_pred = pd.DataFrame(y_pred)"
   ]
  },
  {
   "cell_type": "code",
   "execution_count": null,
   "metadata": {},
   "outputs": [],
   "source": [
    "# 8. Desfazendo o get_dummies\n",
    "y_pred = y_pred.dot(class_names)\n",
    "y_test = y_test.dot(class_names)"
   ]
  },
  {
   "cell_type": "code",
   "execution_count": null,
   "metadata": {},
   "outputs": [],
   "source": [
    "# 9. Avaliar o modelo\n",
    "\n",
    "# Matriz de confusão\n",
    "conf_matrix = confusion_matrix(y_test, y_pred, labels=classes_resposta)\n",
    "print(\"Matriz de Confusão:\\n\", conf_matrix)\n",
    "\n",
    "# Acurácia\n",
    "accuracy = accuracy_score(y_test, y_pred)\n",
    "print(\"Acurácia:\", accuracy)\n",
    "\n",
    "# Precisão\n",
    "precision = precision_score(y_test, y_pred, average='weighted')\n",
    "print(\"Precisão:\", precision)\n",
    "\n",
    "# Revocação (Recall)\n",
    "recall = recall_score(y_test, y_pred, average='weighted')\n",
    "print(\"Revocação:\", recall)\n",
    "\n",
    "# Medida-F (F1-Score)\n",
    "f1 = f1_score(y_test, y_pred, average='weighted')\n",
    "print(\"Medida-F:\", f1)"
   ]
  }
 ],
 "metadata": {
  "kernelspec": {
   "display_name": "Python 3",
   "language": "python",
   "name": "python3"
  },
  "language_info": {
   "codemirror_mode": {
    "name": "ipython",
    "version": 3
   },
   "file_extension": ".py",
   "mimetype": "text/x-python",
   "name": "python",
   "nbconvert_exporter": "python",
   "pygments_lexer": "ipython3",
   "version": "3.10.12"
  }
 },
 "nbformat": 4,
 "nbformat_minor": 2
}
